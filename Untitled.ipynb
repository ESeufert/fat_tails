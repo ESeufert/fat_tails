{
 "cells": [
  {
   "cell_type": "code",
   "execution_count": 16,
   "metadata": {},
   "outputs": [
    {
     "data": {
      "image/png": "[encoded data removed]",
      "text/plain": [
       "<Figure size 432x288 with 1 Axes>"
      ]
     },
     "metadata": {
      "needs_background": "light"
     },
     "output_type": "display_data"
    },
    {
     "name": "stdout",
     "output_type": "stream",
     "text": [
      "0.6830262378003711\n",
      "2.008371531961557\n"
     ]
    }
   ],
   "source": [
    "import numpy as np\n",
    "import matplotlib.pyplot as plt\n",
    "\n",
    "exp_lambda = 1.5\n",
    "exp_mean = ( 1 / exp_lambda )\n",
    "norm_mean=2\n",
    "a = np.random.exponential(scale=exp_mean, size=1000)\n",
    "b = np.random.normal(loc=norm_mean, size=1000)\n",
    "\n",
    "plt.hist(a)\n",
    "plt.hist(b)\n",
    "plt.show()\n",
    "\n",
    "a_mean = np.mean( a )\n",
    "b_mean = np.mean( b )\n",
    "\n",
    "print( a_mean )\n",
    "print( b_mean )\n"
   ]
  },
  {
   "cell_type": "code",
   "execution_count": null,
   "metadata": {},
   "outputs": [],
   "source": []
  },
  {
   "cell_type": "code",
   "execution_count": null,
   "metadata": {},
   "outputs": [],
   "source": []
  }
 ],
 "metadata": {
  "kernelspec": {
   "display_name": "Python 3",
   "language": "python",
   "name": "python3"
  },
  "language_info": {
   "codemirror_mode": {
    "name": "ipython",
    "version": 3
   },
   "file_extension": ".py",
   "mimetype": "text/x-python",
   "name": "python",
   "nbconvert_exporter": "python",
   "pygments_lexer": "ipython3",
   "version": "3.7.3"
  }
 },
 "nbformat": 4,
 "nbformat_minor": 2
}
